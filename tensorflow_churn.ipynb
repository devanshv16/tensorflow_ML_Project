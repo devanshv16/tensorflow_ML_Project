{
  "nbformat": 4,
  "nbformat_minor": 0,
  "metadata": {
    "colab": {
      "provenance": [],
      "authorship_tag": "ABX9TyN8KEp7LKRbIzexTQRudmbN",
      "include_colab_link": true
    },
    "kernelspec": {
      "name": "python3",
      "display_name": "Python 3"
    },
    "language_info": {
      "name": "python"
    }
  },
  "cells": [
    {
      "cell_type": "markdown",
      "metadata": {
        "id": "view-in-github",
        "colab_type": "text"
      },
      "source": [
        "<a href=\"https://colab.research.google.com/github/devanshv16/tensorflow_ML_Project/blob/main/tensorflow_churn.ipynb\" target=\"_parent\"><img src=\"https://colab.research.google.com/assets/colab-badge.svg\" alt=\"Open In Colab\"/></a>"
      ]
    },
    {
      "cell_type": "markdown",
      "source": [
        "# 0. Import Data"
      ],
      "metadata": {
        "id": "X8yvRcBMhROS"
      }
    },
    {
      "cell_type": "code",
      "execution_count": 1,
      "metadata": {
        "id": "JaMl3DXzgq31"
      },
      "outputs": [],
      "source": [
        "import pandas as pd\n",
        "from sklearn.model_selection import train_test_split"
      ]
    },
    {
      "cell_type": "code",
      "source": [
        "df = pd.read_csv('https://raw.githubusercontent.com/nicknochnack/Tensorflow-in-10-Minutes/main/Churn.csv')"
      ],
      "metadata": {
        "id": "Af87ZT9BhasM"
      },
      "execution_count": 3,
      "outputs": []
    },
    {
      "cell_type": "code",
      "source": [
        "X = pd.get_dummies(df.drop(['Churn', 'Customer ID'], axis=1))\n",
        "y = df['Churn'].apply(lambda x: 1 if x=='Yes' else 0)"
      ],
      "metadata": {
        "id": "ObXo92k9hcwz"
      },
      "execution_count": 4,
      "outputs": []
    },
    {
      "cell_type": "code",
      "source": [
        "X_train, X_test, y_train, y_test = train_test_split(X, y, test_size=.2)"
      ],
      "metadata": {
        "id": "5oGWvH21hyrx"
      },
      "execution_count": 5,
      "outputs": []
    },
    {
      "cell_type": "code",
      "source": [
        "y_train.head()"
      ],
      "metadata": {
        "colab": {
          "base_uri": "https://localhost:8080/"
        },
        "id": "VQR6MYBWh0Mi",
        "outputId": "7b342edc-281f-4285-baa7-1e75be689503"
      },
      "execution_count": 6,
      "outputs": [
        {
          "output_type": "execute_result",
          "data": {
            "text/plain": [
              "4078    0\n",
              "954     0\n",
              "4886    0\n",
              "7009    1\n",
              "489     0\n",
              "Name: Churn, dtype: int64"
            ]
          },
          "metadata": {},
          "execution_count": 6
        }
      ]
    },
    {
      "cell_type": "markdown",
      "source": [
        "# 1. Import Dependencies"
      ],
      "metadata": {
        "id": "vDoXQ4qOh2YZ"
      }
    },
    {
      "cell_type": "code",
      "source": [
        "from tensorflow.keras.models import Sequential, load_model\n",
        "from tensorflow.keras.layers import Dense\n",
        "from sklearn.metrics import accuracy_score"
      ],
      "metadata": {
        "id": "LtAbNEiUh1Vp"
      },
      "execution_count": 7,
      "outputs": []
    },
    {
      "cell_type": "markdown",
      "source": [
        "# 2. Build and Compile Model"
      ],
      "metadata": {
        "id": "QtsAHfEnh9md"
      }
    },
    {
      "cell_type": "code",
      "source": [
        "model = Sequential()\n",
        "model.add(Dense(units=32, activation='relu', input_dim=len(X_train.columns)))\n",
        "model.add(Dense(units=64, activation='relu'))\n",
        "model.add(Dense(units=1, activation='sigmoid'))"
      ],
      "metadata": {
        "id": "PlJ8H7IHh8dx"
      },
      "execution_count": 8,
      "outputs": []
    },
    {
      "cell_type": "code",
      "source": [
        "model.compile(loss='binary_crossentropy', optimizer='sgd', metrics='accuracy')"
      ],
      "metadata": {
        "id": "YuK_PXd1iDZG"
      },
      "execution_count": 9,
      "outputs": []
    },
    {
      "cell_type": "markdown",
      "source": [
        "# 3. Fit, Predict and Evaluate"
      ],
      "metadata": {
        "id": "nq1rl5LMiF1S"
      }
    },
    {
      "cell_type": "code",
      "source": [
        "model.fit(X_train, y_train, epochs=200, batch_size=32)"
      ],
      "metadata": {
        "colab": {
          "base_uri": "https://localhost:8080/"
        },
        "id": "C1gPsR74iE79",
        "outputId": "eda44015-73ca-497a-c5eb-819184220d6e"
      },
      "execution_count": 10,
      "outputs": [
        {
          "output_type": "stream",
          "name": "stdout",
          "text": [
            "Epoch 1/200\n",
            "177/177 [==============================] - 2s 5ms/step - loss: 0.5039 - accuracy: 0.7491\n",
            "Epoch 2/200\n",
            "177/177 [==============================] - 1s 5ms/step - loss: 0.4903 - accuracy: 0.7707\n",
            "Epoch 3/200\n",
            "177/177 [==============================] - 1s 5ms/step - loss: 0.4941 - accuracy: 0.7663\n",
            "Epoch 4/200\n",
            "177/177 [==============================] - 1s 5ms/step - loss: 0.4774 - accuracy: 0.7736\n",
            "Epoch 5/200\n",
            "177/177 [==============================] - 1s 5ms/step - loss: 0.4726 - accuracy: 0.7768\n",
            "Epoch 6/200\n",
            "177/177 [==============================] - 1s 5ms/step - loss: 0.4682 - accuracy: 0.7787\n",
            "Epoch 7/200\n",
            "177/177 [==============================] - 1s 5ms/step - loss: 0.4679 - accuracy: 0.7814\n",
            "Epoch 8/200\n",
            "177/177 [==============================] - 1s 8ms/step - loss: 0.4656 - accuracy: 0.7837\n",
            "Epoch 9/200\n",
            "177/177 [==============================] - 1s 8ms/step - loss: 0.4629 - accuracy: 0.7808\n",
            "Epoch 10/200\n",
            "177/177 [==============================] - 1s 6ms/step - loss: 0.4630 - accuracy: 0.7812\n",
            "Epoch 11/200\n",
            "177/177 [==============================] - 1s 5ms/step - loss: 0.4610 - accuracy: 0.7840\n",
            "Epoch 12/200\n",
            "177/177 [==============================] - 1s 5ms/step - loss: 0.4607 - accuracy: 0.7823\n",
            "Epoch 13/200\n",
            "177/177 [==============================] - 1s 5ms/step - loss: 0.4578 - accuracy: 0.7776\n",
            "Epoch 14/200\n",
            "177/177 [==============================] - 1s 5ms/step - loss: 0.4574 - accuracy: 0.7826\n",
            "Epoch 15/200\n",
            "177/177 [==============================] - 1s 5ms/step - loss: 0.4579 - accuracy: 0.7835\n",
            "Epoch 16/200\n",
            "177/177 [==============================] - 1s 5ms/step - loss: 0.4552 - accuracy: 0.7849\n",
            "Epoch 17/200\n",
            "177/177 [==============================] - 1s 5ms/step - loss: 0.4555 - accuracy: 0.7823\n",
            "Epoch 18/200\n",
            "177/177 [==============================] - 1s 5ms/step - loss: 0.4561 - accuracy: 0.7831\n",
            "Epoch 19/200\n",
            "177/177 [==============================] - 1s 5ms/step - loss: 0.4544 - accuracy: 0.7858\n",
            "Epoch 20/200\n",
            "177/177 [==============================] - 1s 5ms/step - loss: 0.4553 - accuracy: 0.7830\n",
            "Epoch 21/200\n",
            "177/177 [==============================] - 1s 7ms/step - loss: 0.4544 - accuracy: 0.7854\n",
            "Epoch 22/200\n",
            "177/177 [==============================] - 1s 8ms/step - loss: 0.4535 - accuracy: 0.7846\n",
            "Epoch 23/200\n",
            "177/177 [==============================] - 1s 6ms/step - loss: 0.4540 - accuracy: 0.7854\n",
            "Epoch 24/200\n",
            "177/177 [==============================] - 1s 5ms/step - loss: 0.4527 - accuracy: 0.7824\n",
            "Epoch 25/200\n",
            "177/177 [==============================] - 1s 5ms/step - loss: 0.4519 - accuracy: 0.7869\n",
            "Epoch 26/200\n",
            "177/177 [==============================] - 1s 5ms/step - loss: 0.4520 - accuracy: 0.7844\n",
            "Epoch 27/200\n",
            "177/177 [==============================] - 1s 5ms/step - loss: 0.4545 - accuracy: 0.7830\n",
            "Epoch 28/200\n",
            "177/177 [==============================] - 1s 5ms/step - loss: 0.4527 - accuracy: 0.7831\n",
            "Epoch 29/200\n",
            "177/177 [==============================] - 1s 5ms/step - loss: 0.4513 - accuracy: 0.7881\n",
            "Epoch 30/200\n",
            "177/177 [==============================] - 1s 5ms/step - loss: 0.4513 - accuracy: 0.7862\n",
            "Epoch 31/200\n",
            "177/177 [==============================] - 1s 5ms/step - loss: 0.4499 - accuracy: 0.7840\n",
            "Epoch 32/200\n",
            "177/177 [==============================] - 1s 5ms/step - loss: 0.4510 - accuracy: 0.7878\n",
            "Epoch 33/200\n",
            "177/177 [==============================] - 1s 5ms/step - loss: 0.4480 - accuracy: 0.7869\n",
            "Epoch 34/200\n",
            "177/177 [==============================] - 1s 7ms/step - loss: 0.4533 - accuracy: 0.7856\n",
            "Epoch 35/200\n",
            "177/177 [==============================] - 1s 8ms/step - loss: 0.4506 - accuracy: 0.7869\n",
            "Epoch 36/200\n",
            "177/177 [==============================] - 1s 7ms/step - loss: 0.4495 - accuracy: 0.7826\n",
            "Epoch 37/200\n",
            "177/177 [==============================] - 1s 5ms/step - loss: 0.4505 - accuracy: 0.7835\n",
            "Epoch 38/200\n",
            "177/177 [==============================] - 1s 5ms/step - loss: 0.4484 - accuracy: 0.7886\n",
            "Epoch 39/200\n",
            "177/177 [==============================] - 1s 5ms/step - loss: 0.4466 - accuracy: 0.7878\n",
            "Epoch 40/200\n",
            "177/177 [==============================] - 1s 5ms/step - loss: 0.4473 - accuracy: 0.7885\n",
            "Epoch 41/200\n",
            "177/177 [==============================] - 1s 5ms/step - loss: 0.4478 - accuracy: 0.7883\n",
            "Epoch 42/200\n",
            "177/177 [==============================] - 1s 5ms/step - loss: 0.4463 - accuracy: 0.7842\n",
            "Epoch 43/200\n",
            "177/177 [==============================] - 1s 5ms/step - loss: 0.4476 - accuracy: 0.7830\n",
            "Epoch 44/200\n",
            "177/177 [==============================] - 1s 5ms/step - loss: 0.4465 - accuracy: 0.7854\n",
            "Epoch 45/200\n",
            "177/177 [==============================] - 1s 5ms/step - loss: 0.4477 - accuracy: 0.7874\n",
            "Epoch 46/200\n",
            "177/177 [==============================] - 1s 5ms/step - loss: 0.4460 - accuracy: 0.7885\n",
            "Epoch 47/200\n",
            "177/177 [==============================] - 1s 7ms/step - loss: 0.4442 - accuracy: 0.7894\n",
            "Epoch 48/200\n",
            "177/177 [==============================] - 1s 8ms/step - loss: 0.4447 - accuracy: 0.7874\n",
            "Epoch 49/200\n",
            "177/177 [==============================] - 1s 7ms/step - loss: 0.4470 - accuracy: 0.7888\n",
            "Epoch 50/200\n",
            "177/177 [==============================] - 1s 7ms/step - loss: 0.4458 - accuracy: 0.7917\n",
            "Epoch 51/200\n",
            "177/177 [==============================] - 1s 5ms/step - loss: 0.4410 - accuracy: 0.7876\n",
            "Epoch 52/200\n",
            "177/177 [==============================] - 1s 5ms/step - loss: 0.4444 - accuracy: 0.7876\n",
            "Epoch 53/200\n",
            "177/177 [==============================] - 1s 5ms/step - loss: 0.4442 - accuracy: 0.7902\n",
            "Epoch 54/200\n",
            "177/177 [==============================] - 1s 5ms/step - loss: 0.4432 - accuracy: 0.7895\n",
            "Epoch 55/200\n",
            "177/177 [==============================] - 1s 5ms/step - loss: 0.4428 - accuracy: 0.7894\n",
            "Epoch 56/200\n",
            "177/177 [==============================] - 1s 5ms/step - loss: 0.4394 - accuracy: 0.7952\n",
            "Epoch 57/200\n",
            "177/177 [==============================] - 1s 5ms/step - loss: 0.4427 - accuracy: 0.7908\n",
            "Epoch 58/200\n",
            "177/177 [==============================] - 1s 5ms/step - loss: 0.4426 - accuracy: 0.7876\n",
            "Epoch 59/200\n",
            "177/177 [==============================] - 1s 6ms/step - loss: 0.4414 - accuracy: 0.7863\n",
            "Epoch 60/200\n",
            "177/177 [==============================] - 1s 8ms/step - loss: 0.4419 - accuracy: 0.7886\n",
            "Epoch 61/200\n",
            "177/177 [==============================] - 1s 8ms/step - loss: 0.4411 - accuracy: 0.7894\n",
            "Epoch 62/200\n",
            "177/177 [==============================] - 1s 6ms/step - loss: 0.4372 - accuracy: 0.7888\n",
            "Epoch 63/200\n",
            "177/177 [==============================] - 1s 5ms/step - loss: 0.4391 - accuracy: 0.7894\n",
            "Epoch 64/200\n",
            "177/177 [==============================] - 1s 5ms/step - loss: 0.4385 - accuracy: 0.7911\n",
            "Epoch 65/200\n",
            "177/177 [==============================] - 1s 5ms/step - loss: 0.4404 - accuracy: 0.7890\n",
            "Epoch 66/200\n",
            "177/177 [==============================] - 1s 5ms/step - loss: 0.4486 - accuracy: 0.7849\n",
            "Epoch 67/200\n",
            "177/177 [==============================] - 1s 5ms/step - loss: 0.4433 - accuracy: 0.7897\n",
            "Epoch 68/200\n",
            "177/177 [==============================] - 1s 5ms/step - loss: 0.4399 - accuracy: 0.7895\n",
            "Epoch 69/200\n",
            "177/177 [==============================] - 1s 5ms/step - loss: 0.4365 - accuracy: 0.7931\n",
            "Epoch 70/200\n",
            "177/177 [==============================] - 1s 5ms/step - loss: 0.4359 - accuracy: 0.7945\n",
            "Epoch 71/200\n",
            "177/177 [==============================] - 1s 5ms/step - loss: 0.4381 - accuracy: 0.7911\n",
            "Epoch 72/200\n",
            "177/177 [==============================] - 1s 6ms/step - loss: 0.4369 - accuracy: 0.7933\n",
            "Epoch 73/200\n",
            "177/177 [==============================] - 1s 8ms/step - loss: 0.4378 - accuracy: 0.7936\n",
            "Epoch 74/200\n",
            "177/177 [==============================] - 1s 7ms/step - loss: 0.4393 - accuracy: 0.7920\n",
            "Epoch 75/200\n",
            "177/177 [==============================] - 1s 5ms/step - loss: 0.4359 - accuracy: 0.7917\n",
            "Epoch 76/200\n",
            "177/177 [==============================] - 1s 5ms/step - loss: 0.4352 - accuracy: 0.7931\n",
            "Epoch 77/200\n",
            "177/177 [==============================] - 1s 5ms/step - loss: 0.4425 - accuracy: 0.7876\n",
            "Epoch 78/200\n",
            "177/177 [==============================] - 1s 5ms/step - loss: 0.4346 - accuracy: 0.7934\n",
            "Epoch 79/200\n",
            "177/177 [==============================] - 1s 5ms/step - loss: 0.4374 - accuracy: 0.7897\n",
            "Epoch 80/200\n",
            "177/177 [==============================] - 1s 5ms/step - loss: 0.4383 - accuracy: 0.7902\n",
            "Epoch 81/200\n",
            "177/177 [==============================] - 1s 5ms/step - loss: 0.4344 - accuracy: 0.7909\n",
            "Epoch 82/200\n",
            "177/177 [==============================] - 1s 5ms/step - loss: 0.4352 - accuracy: 0.7888\n",
            "Epoch 83/200\n",
            "177/177 [==============================] - 1s 5ms/step - loss: 0.4359 - accuracy: 0.7947\n",
            "Epoch 84/200\n",
            "177/177 [==============================] - 1s 5ms/step - loss: 0.4382 - accuracy: 0.7911\n",
            "Epoch 85/200\n",
            "177/177 [==============================] - 1s 6ms/step - loss: 0.4355 - accuracy: 0.7915\n",
            "Epoch 86/200\n",
            "177/177 [==============================] - 1s 8ms/step - loss: 0.4336 - accuracy: 0.7913\n",
            "Epoch 87/200\n",
            "177/177 [==============================] - 1s 8ms/step - loss: 0.4350 - accuracy: 0.7909\n",
            "Epoch 88/200\n",
            "177/177 [==============================] - 1s 5ms/step - loss: 0.4434 - accuracy: 0.7902\n",
            "Epoch 89/200\n",
            "177/177 [==============================] - 1s 5ms/step - loss: 0.4375 - accuracy: 0.7906\n",
            "Epoch 90/200\n",
            "177/177 [==============================] - 1s 5ms/step - loss: 0.4390 - accuracy: 0.7915\n",
            "Epoch 91/200\n",
            "177/177 [==============================] - 1s 5ms/step - loss: 0.4341 - accuracy: 0.7920\n",
            "Epoch 92/200\n",
            "177/177 [==============================] - 1s 5ms/step - loss: 0.4324 - accuracy: 0.7980\n",
            "Epoch 93/200\n",
            "177/177 [==============================] - 1s 5ms/step - loss: 0.4336 - accuracy: 0.7959\n",
            "Epoch 94/200\n",
            "177/177 [==============================] - 1s 5ms/step - loss: 0.4329 - accuracy: 0.7915\n",
            "Epoch 95/200\n",
            "177/177 [==============================] - 1s 5ms/step - loss: 0.4329 - accuracy: 0.7925\n",
            "Epoch 96/200\n",
            "177/177 [==============================] - 1s 5ms/step - loss: 0.4358 - accuracy: 0.7922\n",
            "Epoch 97/200\n",
            "177/177 [==============================] - 1s 5ms/step - loss: 0.4315 - accuracy: 0.7956\n",
            "Epoch 98/200\n",
            "177/177 [==============================] - 1s 5ms/step - loss: 0.4359 - accuracy: 0.7911\n",
            "Epoch 99/200\n",
            "177/177 [==============================] - 1s 8ms/step - loss: 0.4342 - accuracy: 0.7941\n",
            "Epoch 100/200\n",
            "177/177 [==============================] - 1s 8ms/step - loss: 0.4317 - accuracy: 0.7915\n",
            "Epoch 101/200\n",
            "177/177 [==============================] - 1s 5ms/step - loss: 0.4320 - accuracy: 0.7938\n",
            "Epoch 102/200\n",
            "177/177 [==============================] - 1s 5ms/step - loss: 0.4326 - accuracy: 0.7908\n",
            "Epoch 103/200\n",
            "177/177 [==============================] - 1s 5ms/step - loss: 0.4296 - accuracy: 0.7917\n",
            "Epoch 104/200\n",
            "177/177 [==============================] - 1s 5ms/step - loss: 0.4318 - accuracy: 0.7941\n",
            "Epoch 105/200\n",
            "177/177 [==============================] - 1s 5ms/step - loss: 0.4305 - accuracy: 0.7931\n",
            "Epoch 106/200\n",
            "177/177 [==============================] - 1s 5ms/step - loss: 0.4331 - accuracy: 0.7925\n",
            "Epoch 107/200\n",
            "177/177 [==============================] - 1s 5ms/step - loss: 0.4325 - accuracy: 0.7879\n",
            "Epoch 108/200\n",
            "177/177 [==============================] - 1s 5ms/step - loss: 0.4308 - accuracy: 0.7961\n",
            "Epoch 109/200\n",
            "177/177 [==============================] - 1s 5ms/step - loss: 0.4325 - accuracy: 0.7940\n",
            "Epoch 110/200\n",
            "177/177 [==============================] - 1s 5ms/step - loss: 0.4302 - accuracy: 0.7918\n",
            "Epoch 111/200\n",
            "177/177 [==============================] - 1s 5ms/step - loss: 0.4294 - accuracy: 0.7952\n",
            "Epoch 112/200\n",
            "177/177 [==============================] - 1s 8ms/step - loss: 0.4296 - accuracy: 0.7929\n",
            "Epoch 113/200\n",
            "177/177 [==============================] - 1s 8ms/step - loss: 0.4302 - accuracy: 0.7933\n",
            "Epoch 114/200\n",
            "177/177 [==============================] - 1s 5ms/step - loss: 0.4284 - accuracy: 0.7940\n",
            "Epoch 115/200\n",
            "177/177 [==============================] - 1s 5ms/step - loss: 0.4330 - accuracy: 0.7936\n",
            "Epoch 116/200\n",
            "177/177 [==============================] - 1s 5ms/step - loss: 0.4281 - accuracy: 0.7961\n",
            "Epoch 117/200\n",
            "177/177 [==============================] - 1s 5ms/step - loss: 0.4338 - accuracy: 0.7927\n",
            "Epoch 118/200\n",
            "177/177 [==============================] - 1s 5ms/step - loss: 0.4277 - accuracy: 0.7956\n",
            "Epoch 119/200\n",
            "177/177 [==============================] - 1s 5ms/step - loss: 0.4291 - accuracy: 0.7959\n",
            "Epoch 120/200\n",
            "177/177 [==============================] - 1s 5ms/step - loss: 0.4298 - accuracy: 0.7940\n",
            "Epoch 121/200\n",
            "177/177 [==============================] - 1s 5ms/step - loss: 0.4276 - accuracy: 0.7957\n",
            "Epoch 122/200\n",
            "177/177 [==============================] - 1s 5ms/step - loss: 0.4317 - accuracy: 0.7947\n",
            "Epoch 123/200\n",
            "177/177 [==============================] - 1s 5ms/step - loss: 0.4264 - accuracy: 0.7947\n",
            "Epoch 124/200\n",
            "177/177 [==============================] - 1s 5ms/step - loss: 0.4283 - accuracy: 0.7970\n",
            "Epoch 125/200\n",
            "177/177 [==============================] - 1s 8ms/step - loss: 0.4266 - accuracy: 0.7961\n",
            "Epoch 126/200\n",
            "177/177 [==============================] - 1s 7ms/step - loss: 0.4264 - accuracy: 0.7941\n",
            "Epoch 127/200\n",
            "177/177 [==============================] - 1s 6ms/step - loss: 0.4276 - accuracy: 0.7917\n",
            "Epoch 128/200\n",
            "177/177 [==============================] - 1s 5ms/step - loss: 0.4273 - accuracy: 0.7984\n",
            "Epoch 129/200\n",
            "177/177 [==============================] - 1s 5ms/step - loss: 0.4260 - accuracy: 0.7986\n",
            "Epoch 130/200\n",
            "177/177 [==============================] - 1s 4ms/step - loss: 0.4294 - accuracy: 0.8012\n",
            "Epoch 131/200\n",
            "177/177 [==============================] - 1s 5ms/step - loss: 0.4270 - accuracy: 0.7988\n",
            "Epoch 132/200\n",
            "177/177 [==============================] - 1s 5ms/step - loss: 0.4309 - accuracy: 0.7920\n",
            "Epoch 133/200\n",
            "177/177 [==============================] - 1s 5ms/step - loss: 0.4310 - accuracy: 0.7940\n",
            "Epoch 134/200\n",
            "177/177 [==============================] - 1s 5ms/step - loss: 0.4252 - accuracy: 0.7949\n",
            "Epoch 135/200\n",
            "177/177 [==============================] - 1s 5ms/step - loss: 0.4272 - accuracy: 0.7968\n",
            "Epoch 136/200\n",
            "177/177 [==============================] - 1s 5ms/step - loss: 0.4264 - accuracy: 0.7959\n",
            "Epoch 137/200\n",
            "177/177 [==============================] - 1s 5ms/step - loss: 0.4392 - accuracy: 0.7940\n",
            "Epoch 138/200\n",
            "177/177 [==============================] - 1s 7ms/step - loss: 0.4288 - accuracy: 0.7952\n",
            "Epoch 139/200\n",
            "177/177 [==============================] - 1s 8ms/step - loss: 0.4277 - accuracy: 0.7938\n",
            "Epoch 140/200\n",
            "177/177 [==============================] - 1s 7ms/step - loss: 0.4244 - accuracy: 0.8018\n",
            "Epoch 141/200\n",
            "177/177 [==============================] - 1s 5ms/step - loss: 0.4273 - accuracy: 0.7941\n",
            "Epoch 142/200\n",
            "177/177 [==============================] - 1s 5ms/step - loss: 0.4280 - accuracy: 0.7959\n",
            "Epoch 143/200\n",
            "177/177 [==============================] - 1s 5ms/step - loss: 0.4301 - accuracy: 0.7952\n",
            "Epoch 144/200\n",
            "177/177 [==============================] - 1s 5ms/step - loss: 0.4247 - accuracy: 0.7975\n",
            "Epoch 145/200\n",
            "177/177 [==============================] - 1s 5ms/step - loss: 0.4253 - accuracy: 0.7973\n",
            "Epoch 146/200\n",
            "177/177 [==============================] - 1s 5ms/step - loss: 0.4270 - accuracy: 0.7993\n",
            "Epoch 147/200\n",
            "177/177 [==============================] - 1s 5ms/step - loss: 0.4257 - accuracy: 0.7984\n",
            "Epoch 148/200\n",
            "177/177 [==============================] - 1s 5ms/step - loss: 0.4243 - accuracy: 0.7963\n",
            "Epoch 149/200\n",
            "177/177 [==============================] - 1s 5ms/step - loss: 0.4245 - accuracy: 0.7945\n",
            "Epoch 150/200\n",
            "177/177 [==============================] - 1s 5ms/step - loss: 0.4241 - accuracy: 0.8009\n",
            "Epoch 151/200\n",
            "177/177 [==============================] - 1s 5ms/step - loss: 0.4256 - accuracy: 0.7970\n",
            "Epoch 152/200\n",
            "177/177 [==============================] - 1s 7ms/step - loss: 0.4239 - accuracy: 0.7965\n",
            "Epoch 153/200\n",
            "177/177 [==============================] - 1s 7ms/step - loss: 0.4249 - accuracy: 0.8005\n",
            "Epoch 154/200\n",
            "177/177 [==============================] - 1s 6ms/step - loss: 0.4262 - accuracy: 0.7979\n",
            "Epoch 155/200\n",
            "177/177 [==============================] - 1s 5ms/step - loss: 0.4251 - accuracy: 0.7973\n",
            "Epoch 156/200\n",
            "177/177 [==============================] - 1s 5ms/step - loss: 0.4278 - accuracy: 0.7982\n",
            "Epoch 157/200\n",
            "177/177 [==============================] - 1s 5ms/step - loss: 0.4254 - accuracy: 0.7977\n",
            "Epoch 158/200\n",
            "177/177 [==============================] - 1s 5ms/step - loss: 0.4213 - accuracy: 0.8004\n",
            "Epoch 159/200\n",
            "177/177 [==============================] - 1s 5ms/step - loss: 0.4255 - accuracy: 0.7918\n",
            "Epoch 160/200\n",
            "177/177 [==============================] - 1s 5ms/step - loss: 0.4213 - accuracy: 0.7980\n",
            "Epoch 161/200\n",
            "177/177 [==============================] - 1s 5ms/step - loss: 0.4257 - accuracy: 0.7995\n",
            "Epoch 162/200\n",
            "177/177 [==============================] - 1s 5ms/step - loss: 0.4262 - accuracy: 0.7931\n",
            "Epoch 163/200\n",
            "177/177 [==============================] - 1s 5ms/step - loss: 0.4254 - accuracy: 0.7959\n",
            "Epoch 164/200\n",
            "177/177 [==============================] - 1s 5ms/step - loss: 0.4212 - accuracy: 0.7988\n",
            "Epoch 165/200\n",
            "177/177 [==============================] - 1s 6ms/step - loss: 0.4228 - accuracy: 0.7975\n",
            "Epoch 166/200\n",
            "177/177 [==============================] - 1s 8ms/step - loss: 0.4249 - accuracy: 0.7959\n",
            "Epoch 167/200\n",
            "177/177 [==============================] - 1s 7ms/step - loss: 0.4242 - accuracy: 0.8030\n",
            "Epoch 168/200\n",
            "177/177 [==============================] - 1s 5ms/step - loss: 0.4231 - accuracy: 0.8009\n",
            "Epoch 169/200\n",
            "177/177 [==============================] - 1s 5ms/step - loss: 0.4277 - accuracy: 0.7988\n",
            "Epoch 170/200\n",
            "177/177 [==============================] - 1s 6ms/step - loss: 0.4238 - accuracy: 0.8016\n",
            "Epoch 171/200\n",
            "177/177 [==============================] - 1s 5ms/step - loss: 0.4246 - accuracy: 0.7986\n",
            "Epoch 172/200\n",
            "177/177 [==============================] - 1s 5ms/step - loss: 0.4211 - accuracy: 0.7982\n",
            "Epoch 173/200\n",
            "177/177 [==============================] - 1s 5ms/step - loss: 0.4240 - accuracy: 0.8023\n",
            "Epoch 174/200\n",
            "177/177 [==============================] - 1s 5ms/step - loss: 0.4232 - accuracy: 0.8012\n",
            "Epoch 175/200\n",
            "177/177 [==============================] - 1s 5ms/step - loss: 0.4243 - accuracy: 0.7996\n",
            "Epoch 176/200\n",
            "177/177 [==============================] - 1s 5ms/step - loss: 0.4229 - accuracy: 0.7972\n",
            "Epoch 177/200\n",
            "177/177 [==============================] - 1s 5ms/step - loss: 0.4233 - accuracy: 0.7984\n",
            "Epoch 178/200\n",
            "177/177 [==============================] - 1s 7ms/step - loss: 0.4241 - accuracy: 0.7952\n",
            "Epoch 179/200\n",
            "177/177 [==============================] - 1s 8ms/step - loss: 0.4233 - accuracy: 0.7982\n",
            "Epoch 180/200\n",
            "177/177 [==============================] - 1s 7ms/step - loss: 0.4244 - accuracy: 0.7993\n",
            "Epoch 181/200\n",
            "177/177 [==============================] - 1s 5ms/step - loss: 0.4223 - accuracy: 0.8007\n",
            "Epoch 182/200\n",
            "177/177 [==============================] - 1s 5ms/step - loss: 0.4224 - accuracy: 0.7972\n",
            "Epoch 183/200\n",
            "177/177 [==============================] - 1s 5ms/step - loss: 0.4217 - accuracy: 0.8032\n",
            "Epoch 184/200\n",
            "177/177 [==============================] - 1s 5ms/step - loss: 0.4235 - accuracy: 0.8000\n",
            "Epoch 185/200\n",
            "177/177 [==============================] - 1s 5ms/step - loss: 0.4260 - accuracy: 0.7973\n",
            "Epoch 186/200\n",
            "177/177 [==============================] - 1s 5ms/step - loss: 0.4218 - accuracy: 0.8012\n",
            "Epoch 187/200\n",
            "177/177 [==============================] - 1s 5ms/step - loss: 0.4220 - accuracy: 0.8004\n",
            "Epoch 188/200\n",
            "177/177 [==============================] - 1s 5ms/step - loss: 0.4211 - accuracy: 0.8005\n",
            "Epoch 189/200\n",
            "177/177 [==============================] - 1s 5ms/step - loss: 0.4195 - accuracy: 0.8030\n",
            "Epoch 190/200\n",
            "177/177 [==============================] - 1s 5ms/step - loss: 0.4223 - accuracy: 0.8005\n",
            "Epoch 191/200\n",
            "177/177 [==============================] - 1s 6ms/step - loss: 0.4239 - accuracy: 0.7941\n",
            "Epoch 192/200\n",
            "177/177 [==============================] - 1s 8ms/step - loss: 0.4194 - accuracy: 0.7996\n",
            "Epoch 193/200\n",
            "177/177 [==============================] - 1s 8ms/step - loss: 0.4226 - accuracy: 0.8009\n",
            "Epoch 194/200\n",
            "177/177 [==============================] - 1s 5ms/step - loss: 0.4207 - accuracy: 0.7979\n",
            "Epoch 195/200\n",
            "177/177 [==============================] - 1s 5ms/step - loss: 0.4212 - accuracy: 0.7986\n",
            "Epoch 196/200\n",
            "177/177 [==============================] - 1s 5ms/step - loss: 0.4202 - accuracy: 0.7975\n",
            "Epoch 197/200\n",
            "177/177 [==============================] - 1s 5ms/step - loss: 0.4383 - accuracy: 0.7927\n",
            "Epoch 198/200\n",
            "177/177 [==============================] - 1s 5ms/step - loss: 0.4297 - accuracy: 0.7931\n",
            "Epoch 199/200\n",
            "177/177 [==============================] - 1s 5ms/step - loss: 0.4224 - accuracy: 0.7989\n",
            "Epoch 200/200\n",
            "177/177 [==============================] - 1s 5ms/step - loss: 0.4183 - accuracy: 0.8007\n"
          ]
        },
        {
          "output_type": "execute_result",
          "data": {
            "text/plain": [
              "<keras.callbacks.History at 0x7fc171cde9b0>"
            ]
          },
          "metadata": {},
          "execution_count": 10
        }
      ]
    },
    {
      "cell_type": "code",
      "source": [
        "y_hat = model.predict(X_test)\n",
        "y_hat = [0 if val < 0.5 else 1 for val in y_hat]"
      ],
      "metadata": {
        "colab": {
          "base_uri": "https://localhost:8080/"
        },
        "id": "hylyGlJViMhT",
        "outputId": "2faae650-d521-4899-d7fb-12f34dbc438a"
      },
      "execution_count": 11,
      "outputs": [
        {
          "output_type": "stream",
          "name": "stdout",
          "text": [
            "45/45 [==============================] - 1s 7ms/step\n"
          ]
        }
      ]
    },
    {
      "cell_type": "code",
      "source": [
        "accuracy_score(y_test, y_hat)"
      ],
      "metadata": {
        "colab": {
          "base_uri": "https://localhost:8080/"
        },
        "id": "lMs5c1myjA0x",
        "outputId": "c7abc1ce-8f93-44eb-829e-2e4af0130cc9"
      },
      "execution_count": 12,
      "outputs": [
        {
          "output_type": "execute_result",
          "data": {
            "text/plain": [
              "0.7288857345635202"
            ]
          },
          "metadata": {},
          "execution_count": 12
        }
      ]
    },
    {
      "cell_type": "markdown",
      "source": [
        "# 4. Saving and Reloading"
      ],
      "metadata": {
        "id": "rV8FxqMHjEMj"
      }
    },
    {
      "cell_type": "code",
      "source": [
        "model.save('tfmodel')"
      ],
      "metadata": {
        "colab": {
          "base_uri": "https://localhost:8080/"
        },
        "id": "hCZS_1Y9jCW1",
        "outputId": "3c5f9b24-7e33-4dbd-850f-f179cedaff5d"
      },
      "execution_count": 13,
      "outputs": [
        {
          "output_type": "stream",
          "name": "stderr",
          "text": [
            "WARNING:absl:Found untraced functions such as _update_step_xla while saving (showing 1 of 1). These functions will not be directly callable after loading.\n"
          ]
        }
      ]
    },
    {
      "cell_type": "code",
      "source": [
        "del model "
      ],
      "metadata": {
        "id": "CaJfVio9jJNj"
      },
      "execution_count": 14,
      "outputs": []
    },
    {
      "cell_type": "code",
      "source": [
        "model = load_model('tfmodel')"
      ],
      "metadata": {
        "id": "iMFls6jXjMpj"
      },
      "execution_count": 15,
      "outputs": []
    },
    {
      "cell_type": "code",
      "source": [],
      "metadata": {
        "id": "h7oRfFGBjN-b"
      },
      "execution_count": null,
      "outputs": []
    }
  ]
}